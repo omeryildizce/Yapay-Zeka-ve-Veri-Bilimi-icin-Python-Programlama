{
 "cells": [
  {
   "cell_type": "code",
   "execution_count": 4,
   "metadata": {},
   "outputs": [],
   "source": [
    "sayi1 = 10 \n",
    "sayi2 = 100"
   ]
  },
  {
   "cell_type": "code",
   "execution_count": 5,
   "metadata": {},
   "outputs": [
    {
     "name": "stdout",
     "output_type": "stream",
     "text": [
      "10 <= 100\n"
     ]
    }
   ],
   "source": [
    "if sayi1 > sayi2:\n",
    "    print(f\"{sayi1} >= {sayi2}\")\n",
    "\n",
    "if sayi1 < sayi2:\n",
    "    print(f\"{sayi1} <= {sayi2}\")\n",
    "\n"
   ]
  },
  {
   "cell_type": "code",
   "execution_count": 6,
   "metadata": {},
   "outputs": [
    {
     "name": "stdout",
     "output_type": "stream",
     "text": [
      "10 <= 100\n"
     ]
    }
   ],
   "source": [
    "if sayi1 > sayi2:\n",
    "    print(f\"{sayi1} >= {sayi2}\")\n",
    "\n",
    "else:\n",
    "    print(f\"{sayi1} <= {sayi2}\")\n",
    "\n"
   ]
  },
  {
   "cell_type": "code",
   "execution_count": 7,
   "metadata": {},
   "outputs": [
    {
     "name": "stdout",
     "output_type": "stream",
     "text": [
      "15 = 15\n"
     ]
    }
   ],
   "source": [
    "sayi1, sayi2 = 15, 15\n",
    "if sayi1 > sayi2:\n",
    "    print(f\"{sayi1} > {sayi2}\")\n",
    "elif sayi2 == sayi1:\n",
    "        print(f\"{sayi1} = {sayi2}\")\n",
    "\n",
    "else:\n",
    "    print(f\"{sayi1} < {sayi2}\")\n",
    "\n"
   ]
  },
  {
   "cell_type": "code",
   "execution_count": null,
   "metadata": {},
   "outputs": [],
   "source": []
  }
 ],
 "metadata": {
  "kernelspec": {
   "display_name": "Python 3.10.5 64-bit",
   "language": "python",
   "name": "python3"
  },
  "language_info": {
   "codemirror_mode": {
    "name": "ipython",
    "version": 3
   },
   "file_extension": ".py",
   "mimetype": "text/x-python",
   "name": "python",
   "nbconvert_exporter": "python",
   "pygments_lexer": "ipython3",
   "version": "3.10.5"
  },
  "orig_nbformat": 4,
  "vscode": {
   "interpreter": {
    "hash": "b885c526da3326e581d3a88563282ab625602807b12d7b4af8a2a7f32a015837"
   }
  }
 },
 "nbformat": 4,
 "nbformat_minor": 2
}
