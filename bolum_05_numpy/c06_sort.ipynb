{
 "cells": [
  {
   "cell_type": "code",
   "execution_count": 8,
   "metadata": {},
   "outputs": [],
   "source": [
    "import numpy as np"
   ]
  },
  {
   "cell_type": "code",
   "execution_count": 9,
   "metadata": {},
   "outputs": [
    {
     "data": {
      "text/plain": [
       "array([59,  1, 87, 96,  8, 89, 85,  1, 84, 84, 39, 91, 21, 13,  6, 59, 65,\n",
       "       30, 95, 47, 32, 82, 63, 46, 63, 47,  7, 27, 38, 84,  6, 82, 70, 18,\n",
       "       18, 95, 56, 18, 63, 99,  9, 44, 47, 19,  5, 22, 82, 88, 44, 70])"
      ]
     },
     "execution_count": 9,
     "metadata": {},
     "output_type": "execute_result"
    }
   ],
   "source": [
    "v = np.random.randint(1,100,50)\n",
    "v"
   ]
  },
  {
   "cell_type": "code",
   "execution_count": 10,
   "metadata": {},
   "outputs": [
    {
     "data": {
      "text/plain": [
       "array([ 1,  1,  5,  6,  6,  7,  8,  9, 13, 18, 18, 18, 19, 21, 22, 27, 30,\n",
       "       32, 38, 39, 44, 44, 46, 47, 47, 47, 56, 59, 59, 63, 63, 63, 65, 70,\n",
       "       70, 82, 82, 82, 84, 84, 84, 85, 87, 88, 89, 91, 95, 95, 96, 99])"
      ]
     },
     "execution_count": 10,
     "metadata": {},
     "output_type": "execute_result"
    }
   ],
   "source": [
    "np.sort(v)"
   ]
  },
  {
   "cell_type": "code",
   "execution_count": 11,
   "metadata": {},
   "outputs": [
    {
     "data": {
      "text/plain": [
       "array([59,  1, 87, 96,  8, 89, 85,  1, 84, 84, 39, 91, 21, 13,  6, 59, 65,\n",
       "       30, 95, 47, 32, 82, 63, 46, 63, 47,  7, 27, 38, 84,  6, 82, 70, 18,\n",
       "       18, 95, 56, 18, 63, 99,  9, 44, 47, 19,  5, 22, 82, 88, 44, 70])"
      ]
     },
     "execution_count": 11,
     "metadata": {},
     "output_type": "execute_result"
    }
   ],
   "source": [
    "v"
   ]
  },
  {
   "cell_type": "code",
   "execution_count": 12,
   "metadata": {},
   "outputs": [],
   "source": [
    "v.sort()"
   ]
  },
  {
   "cell_type": "code",
   "execution_count": 13,
   "metadata": {},
   "outputs": [
    {
     "data": {
      "text/plain": [
       "array([ 1,  1,  5,  6,  6,  7,  8,  9, 13, 18, 18, 18, 19, 21, 22, 27, 30,\n",
       "       32, 38, 39, 44, 44, 46, 47, 47, 47, 56, 59, 59, 63, 63, 63, 65, 70,\n",
       "       70, 82, 82, 82, 84, 84, 84, 85, 87, 88, 89, 91, 95, 95, 96, 99])"
      ]
     },
     "execution_count": 13,
     "metadata": {},
     "output_type": "execute_result"
    }
   ],
   "source": [
    "v"
   ]
  },
  {
   "cell_type": "code",
   "execution_count": 14,
   "metadata": {},
   "outputs": [
    {
     "data": {
      "text/plain": [
       "array([[24.00029547, 14.60870984, 31.45684379],\n",
       "       [25.61658135, 19.7518797 , 18.31396797],\n",
       "       [22.69096474, 22.52727558, 16.25356116]])"
      ]
     },
     "execution_count": 14,
     "metadata": {},
     "output_type": "execute_result"
    }
   ],
   "source": [
    "m = np.random.normal(20,5, (3,3))\n",
    "m"
   ]
  },
  {
   "cell_type": "code",
   "execution_count": 15,
   "metadata": {},
   "outputs": [
    {
     "data": {
      "text/plain": [
       "array([[14.60870984, 24.00029547, 31.45684379],\n",
       "       [18.31396797, 19.7518797 , 25.61658135],\n",
       "       [16.25356116, 22.52727558, 22.69096474]])"
      ]
     },
     "execution_count": 15,
     "metadata": {},
     "output_type": "execute_result"
    }
   ],
   "source": [
    "np.sort(m)"
   ]
  },
  {
   "cell_type": "code",
   "execution_count": 17,
   "metadata": {},
   "outputs": [
    {
     "data": {
      "text/plain": [
       "array([[22.69096474, 14.60870984, 16.25356116],\n",
       "       [24.00029547, 19.7518797 , 18.31396797],\n",
       "       [25.61658135, 22.52727558, 31.45684379]])"
      ]
     },
     "execution_count": 17,
     "metadata": {},
     "output_type": "execute_result"
    }
   ],
   "source": [
    "np.sort(m, axis=0)"
   ]
  },
  {
   "cell_type": "code",
   "execution_count": null,
   "metadata": {},
   "outputs": [],
   "source": []
  }
 ],
 "metadata": {
  "kernelspec": {
   "display_name": "Python 3.10.5 64-bit",
   "language": "python",
   "name": "python3"
  },
  "language_info": {
   "codemirror_mode": {
    "name": "ipython",
    "version": 3
   },
   "file_extension": ".py",
   "mimetype": "text/x-python",
   "name": "python",
   "nbconvert_exporter": "python",
   "pygments_lexer": "ipython3",
   "version": "3.10.5"
  },
  "orig_nbformat": 4,
  "vscode": {
   "interpreter": {
    "hash": "b885c526da3326e581d3a88563282ab625602807b12d7b4af8a2a7f32a015837"
   }
  }
 },
 "nbformat": 4,
 "nbformat_minor": 2
}
